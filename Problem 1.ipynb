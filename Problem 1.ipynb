{
 "cells": [
  {
   "cell_type": "markdown",
   "metadata": {},
   "source": [
    "# Project Euler Question 1"
   ]
  },
  {
   "cell_type": "markdown",
   "metadata": {},
   "source": [
    "This Jupyter Notebook file will walk through how to solve Project Euler Question 1: https://projecteuler.net/problem=1\n",
    "\n",
    "> If we list all the natural numbers below 10 that are multiples of 3 or 5, we get 3, 5, 6 and 9. The sum of these multiples is 23.\n",
    "\n",
    "> Find the sum of all the multiples of 3 or 5 below 1000.\n",
    "\n",
    "The first instinct that comes to mind is to brute-force the question.\n",
    "1. Find all multiples of 3\n",
    "2. Find all multiples of 5\n",
    "3. Find all mutliples of 15\n",
    "4. Add (1) and (2). Subtract (3) "
   ]
  },
  {
   "cell_type": "code",
   "execution_count": 3,
   "metadata": {},
   "outputs": [
    {
     "name": "stdout",
     "output_type": "stream",
     "text": [
      "Answer is 33\n",
      "Time taken is 3.910064697265625e-05 seconds\n"
     ]
    }
   ],
   "source": [
    "import time\n",
    "\n",
    "def approach1(number):\n",
    "    \"\"\"\n",
    "    This is the code write-up for the first approach to the question\n",
    "    Code is generalized for finding the sum of multiples of 3 or 5 below any number \n",
    "    \"\"\"\n",
    "    multiples_of_3 = [3 * i for i in range(int(number / 3) + 1)]\n",
    "    multiples_of_5 = [5 * i for i in range(int(number / 5) + 1)]\n",
    "    multiples_of_15 = [15 * i for i in range(int(number / 15) + 1)]\n",
    "\n",
    "    return sum(multiples_of_3) + sum(multiples_of_5) - sum(multiples_of_15)\n",
    "\n",
    "# Start and End Times\n",
    "start = time.time()\n",
    "answer = approach1(10) # This is the solution\n",
    "end = time.time()\n",
    "time = end - start\n",
    "\n",
    "print(\"Answer is {0}\".format(answer))\n",
    "print(\"Time taken is {0} seconds\". format(time))"
   ]
  },
  {
   "cell_type": "markdown",
   "metadata": {},
   "source": [
    "Another method is a little more elegant. We will use __sets__ to not allow duplicates. This will eliminate step (3). \n",
    "1. Find all mutliples of 3, and add to set\n",
    "2. Find all mutliples of 5, and add to set\n",
    "3. Add all elements of set\n",
    "\n",
    "Let's see our approaches 1 and 2 in action in the following codes. "
   ]
  },
  {
   "cell_type": "code",
   "execution_count": 2,
   "metadata": {},
   "outputs": [
    {
     "name": "stdout",
     "output_type": "stream",
     "text": [
      "Answer is 234168\n",
      "Time taken is 0.00019979476928710938 seconds\n"
     ]
    }
   ],
   "source": [
    "import time\n",
    "\n",
    "def approach2(number):\n",
    "    \"\"\"\n",
    "    This is the code write-up for the first approach to the question\n",
    "    Code is generalized for finding the sum of multiples of 3 or 5 below any number \n",
    "    \"\"\"\n",
    "    return_set = set()\n",
    "    for i in range(int(number / 3) + 1):\n",
    "        return_set.add(3 * i)\n",
    "    for i in range(int(number / 5) + 1):\n",
    "        return_set.add(5 * i)\n",
    "    return sum(return_set)\n",
    "\n",
    "# Start and End Times\n",
    "start = time.time()\n",
    "answer = approach2(1000) # This is the solution\n",
    "end = time.time()\n",
    "time = end - start\n",
    "\n",
    "print(\"Answer is {0}\".format(answer))\n",
    "print(\"Time taken is {0} seconds\". format(time))"
   ]
  },
  {
   "cell_type": "code",
   "execution_count": null,
   "metadata": {
    "collapsed": true
   },
   "outputs": [],
   "source": []
  }
 ],
 "metadata": {
  "kernelspec": {
   "display_name": "Python 3",
   "language": "python",
   "name": "python3"
  },
  "language_info": {
   "codemirror_mode": {
    "name": "ipython",
    "version": 3
   },
   "file_extension": ".py",
   "mimetype": "text/x-python",
   "name": "python",
   "nbconvert_exporter": "python",
   "pygments_lexer": "ipython3",
   "version": "3.6.1"
  }
 },
 "nbformat": 4,
 "nbformat_minor": 2
}
